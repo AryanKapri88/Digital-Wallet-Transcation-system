{
 "cells": [
  {
   "cell_type": "markdown",
   "id": "40b1f6a2",
   "metadata": {},
   "source": [
    "   ## Week 1: Python Fundamentals\n",
    "   \n",
    "● Python basics (variables, data types, operators, control structures)\n",
    "\n",
    "● Data structures (lists, dictionaries, sets, tuples)\n",
    "\n",
    "● Functions, modules, file I/O, and error handling\n",
    "\n",
    "● Libraries: Introduction to NumPy and Pandas\n"
   ]
  },
  {
   "cell_type": "code",
   "execution_count": 1,
   "id": "9a0943da",
   "metadata": {},
   "outputs": [],
   "source": [
    "import pandas as pd\n",
    "from datetime import datetime"
   ]
  },
  {
   "cell_type": "code",
   "execution_count": 12,
   "id": "fb66b84c",
   "metadata": {},
   "outputs": [],
   "source": [
    "def total_budget():\n",
    "    while True:\n",
    "        try:\n",
    "            budget = float(input(\"Enter your total budget: \"))\n",
    "            if budget > 0:\n",
    "                return budget\n",
    "            else:\n",
    "                print(\"Budget must be positive!\")\n",
    "        except:\n",
    "            print(\"Please enter a valid number.\")"
   ]
  },
  {
   "cell_type": "code",
   "execution_count": 13,
   "id": "4507107a",
   "metadata": {},
   "outputs": [],
   "source": [
    "categories = {\"food\", \"transport\", \"bills\", \"entertainment\"}\n",
    "transactions = []"
   ]
  },
  {
   "cell_type": "code",
   "execution_count": 14,
   "id": "2004459e",
   "metadata": {},
   "outputs": [],
   "source": [
    "def expenses(budget, category, amount):\n",
    "    try:\n",
    "        amount = float(amount)\n",
    "        category = category.lower()\n",
    "        if amount <= 0:\n",
    "            print(\"Amount must be positive!\")\n",
    "            return budget\n",
    "        if category not in categories:\n",
    "            print(f\"Invalid category! Choose from {categories}\")\n",
    "            return budget\n",
    "        if amount > budget:\n",
    "            print(\"Transaction failed: Not enough budget!\")\n",
    "            return budget\n",
    "        budget -= amount\n",
    "        transactions.append({\n",
    "            \"date\": datetime.now().strftime(\"%Y-%m-%d\"),\n",
    "            \"category\": category,\n",
    "            \"amount\": amount,\n",
    "            \"remaining_balance\": budget\n",
    "        })\n",
    "        print(f\"Expense added: {amount} in {category}. Remaining balance: {budget}\")\n",
    "        return budget\n",
    "    except:\n",
    "        print(\"Please enter a valid amount.\")\n",
    "        return budget\n"
   ]
  },
  {
   "cell_type": "code",
   "execution_count": 15,
   "id": "70f18f73",
   "metadata": {},
   "outputs": [],
   "source": [
    "def save_transactions():\n",
    "    if not transactions:\n",
    "        print(\"No transactions.\")\n",
    "        return\n",
    "    \n",
    "    df = pd.DataFrame(transactions)\n",
    "    df.to_csv(\"transactions.csv\", mode='w', index=False, header=True)\n",
    "    print(\"Saved to transactions.csv\")"
   ]
  },
  {
   "cell_type": "code",
   "execution_count": 17,
   "id": "f344d0bf",
   "metadata": {},
   "outputs": [
    {
     "name": "stdout",
     "output_type": "stream",
     "text": [
      "Enter your total budget: 12000\n",
      "\n",
      "1. Add expense\n",
      "2. Save and exit\n",
      "Enter choice (1 or 2): 1\n",
      "Enter category {'transport', 'entertainment', 'food', 'bills'}: bills\n",
      "Enter amount: 3400\n",
      "Expense added: 3400.0 in bills. Remaining balance: 8600.0\n",
      "\n",
      "1. Add expense\n",
      "2. Save and exit\n",
      "Enter choice (1 or 2): 2\n",
      "Saved to transactions.csv\n",
      "Final balance: 8600.0\n"
     ]
    }
   ],
   "source": [
    "def main():\n",
    "    budget = total_budget()\n",
    "    \n",
    "    while True:\n",
    "        print(\"\\n1. Add expense\")\n",
    "        print(\"2. Save and exit\")\n",
    "        choice = input(\"Enter choice (1 or 2): \")\n",
    "        \n",
    "        if choice == \"1\":\n",
    "            category = input(f\"Enter category {categories}: \").lower()\n",
    "            amount = input(\"Enter amount: \")\n",
    "            budget = expenses(budget, category, amount)\n",
    "            \n",
    "        elif choice == \"2\":\n",
    "            save_transactions()\n",
    "            print(f\"Final balance: {budget}\")\n",
    "            break\n",
    "            \n",
    "        else:\n",
    "            print(\"Please enter 1 or 2.\")\n",
    "\n",
    "main()            "
   ]
  },
  {
   "cell_type": "code",
   "execution_count": null,
   "id": "12598c22",
   "metadata": {},
   "outputs": [],
   "source": []
  }
 ],
 "metadata": {
  "kernelspec": {
   "display_name": "Python 3 (ipykernel)",
   "language": "python",
   "name": "python3"
  },
  "language_info": {
   "codemirror_mode": {
    "name": "ipython",
    "version": 3
   },
   "file_extension": ".py",
   "mimetype": "text/x-python",
   "name": "python",
   "nbconvert_exporter": "python",
   "pygments_lexer": "ipython3",
   "version": "3.9.7"
  }
 },
 "nbformat": 4,
 "nbformat_minor": 5
}
